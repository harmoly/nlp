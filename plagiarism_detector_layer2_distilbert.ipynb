{
 "cells": [
  {
   "cell_type": "code",
   "execution_count": 1,
   "metadata": {},
   "outputs": [
    {
     "data": {
      "text/html": [
       "<div>\n",
       "<style scoped>\n",
       "    .dataframe tbody tr th:only-of-type {\n",
       "        vertical-align: middle;\n",
       "    }\n",
       "\n",
       "    .dataframe tbody tr th {\n",
       "        vertical-align: top;\n",
       "    }\n",
       "\n",
       "    .dataframe thead th {\n",
       "        text-align: right;\n",
       "    }\n",
       "</style>\n",
       "<table border=\"1\" class=\"dataframe\">\n",
       "  <thead>\n",
       "    <tr style=\"text-align: right;\">\n",
       "      <th></th>\n",
       "      <th>content</th>\n",
       "    </tr>\n",
       "  </thead>\n",
       "  <tbody>\n",
       "    <tr>\n",
       "      <th>0</th>\n",
       "      <td>WASHINGTON  —   Congressional Republicans have...</td>\n",
       "    </tr>\n",
       "    <tr>\n",
       "      <th>1</th>\n",
       "      <td>After the bullet shells get counted, the blood...</td>\n",
       "    </tr>\n",
       "    <tr>\n",
       "      <th>2</th>\n",
       "      <td>When Walt Disney’s “Bambi” opened in 1942, cri...</td>\n",
       "    </tr>\n",
       "    <tr>\n",
       "      <th>3</th>\n",
       "      <td>Death may be the great equalizer, but it isn’t...</td>\n",
       "    </tr>\n",
       "    <tr>\n",
       "      <th>4</th>\n",
       "      <td>SEOUL, South Korea  —   North Korea’s leader, ...</td>\n",
       "    </tr>\n",
       "  </tbody>\n",
       "</table>\n",
       "</div>"
      ],
      "text/plain": [
       "                                             content\n",
       "0  WASHINGTON  —   Congressional Republicans have...\n",
       "1  After the bullet shells get counted, the blood...\n",
       "2  When Walt Disney’s “Bambi” opened in 1942, cri...\n",
       "3  Death may be the great equalizer, but it isn’t...\n",
       "4  SEOUL, South Korea  —   North Korea’s leader, ..."
      ]
     },
     "execution_count": 1,
     "metadata": {},
     "output_type": "execute_result"
    }
   ],
   "source": [
    "import pandas as pd\n",
    "import numpy as np\n",
    "import spacy\n",
    "import re\n",
    "#from __future__ import unicode_literals, print_function\n",
    "from spacy.lang.en import English \n",
    "from sklearn.metrics.pairwise import cosine_similarity\n",
    "from transformers import DistilBertTokenizerFast, DistilBertModel, pipeline\n",
    "from tqdm.auto import tqdm\n",
    "\n",
    "a1 = pd.read_csv('articles1.csv', sep=',')\n",
    "\n",
    "# dataframe\n",
    "articles = a1\n",
    "articles = articles[['content']]\n",
    "\n",
    "# subset for demo\n",
    "articles = articles.iloc[0:10,:] # 10 articles\n",
    "articles.head()"
   ]
  },
  {
   "cell_type": "code",
   "execution_count": 2,
   "metadata": {},
   "outputs": [],
   "source": [
    "# sentence split\n",
    "nlp = English()\n",
    "nlp.add_pipe('sentencizer') \n",
    "\n",
    "def sentence_split(input_text): \n",
    "    doc = nlp(input_text)\n",
    "    split = [sent.text.strip() for sent in doc.sents]\n",
    "    return split # list of input split into sentences"
   ]
  },
  {
   "cell_type": "code",
   "execution_count": 4,
   "metadata": {},
   "outputs": [
    {
     "data": {
      "text/plain": [
       "['WASHINGTON  —   Congressional Republicans have a new fear when it comes to their    health care lawsuit against the Obama administration: They might win.',\n",
       " 'The incoming Trump administration could choose to no longer defend the executive branch against the suit, which challenges the administration’s authority to spend billions of dollars on health insurance subsidies for   and   Americans, handing House Republicans a big victory on    issues.',\n",
       " 'But a sudden loss of the disputed subsidies could conceivably cause the health care program to implode, leaving millions of people without access to health insurance before Republicans have prepared a replacement.']"
      ]
     },
     "execution_count": 4,
     "metadata": {},
     "output_type": "execute_result"
    }
   ],
   "source": [
    "# test input - 1 article at a time\n",
    "list_of_str = sentence_split(articles['content'][0])\n",
    "list_of_str[0:3]"
   ]
  },
  {
   "cell_type": "code",
   "execution_count": 5,
   "metadata": {},
   "outputs": [
    {
     "data": {
      "text/html": [
       "<div>\n",
       "<style scoped>\n",
       "    .dataframe tbody tr th:only-of-type {\n",
       "        vertical-align: middle;\n",
       "    }\n",
       "\n",
       "    .dataframe tbody tr th {\n",
       "        vertical-align: top;\n",
       "    }\n",
       "\n",
       "    .dataframe thead th {\n",
       "        text-align: right;\n",
       "    }\n",
       "</style>\n",
       "<table border=\"1\" class=\"dataframe\">\n",
       "  <thead>\n",
       "    <tr style=\"text-align: right;\">\n",
       "      <th></th>\n",
       "      <th>content</th>\n",
       "    </tr>\n",
       "  </thead>\n",
       "  <tbody>\n",
       "    <tr>\n",
       "      <th>0</th>\n",
       "      <td>WASHINGTON  —   Congressional Republicans have...</td>\n",
       "    </tr>\n",
       "    <tr>\n",
       "      <th>1</th>\n",
       "      <td>The incoming Trump administration could choose...</td>\n",
       "    </tr>\n",
       "    <tr>\n",
       "      <th>2</th>\n",
       "      <td>But a sudden loss of the disputed subsidies co...</td>\n",
       "    </tr>\n",
       "    <tr>\n",
       "      <th>3</th>\n",
       "      <td>That could lead to chaos in the insurance mark...</td>\n",
       "    </tr>\n",
       "    <tr>\n",
       "      <th>4</th>\n",
       "      <td>To stave off that outcome, Republicans could f...</td>\n",
       "    </tr>\n",
       "  </tbody>\n",
       "</table>\n",
       "</div>"
      ],
      "text/plain": [
       "                                             content\n",
       "0  WASHINGTON  —   Congressional Republicans have...\n",
       "1  The incoming Trump administration could choose...\n",
       "2  But a sudden loss of the disputed subsidies co...\n",
       "3  That could lead to chaos in the insurance mark...\n",
       "4  To stave off that outcome, Republicans could f..."
      ]
     },
     "execution_count": 5,
     "metadata": {},
     "output_type": "execute_result"
    }
   ],
   "source": [
    "# one article to dataframe\n",
    "sentences_df = pd.DataFrame(list_of_str, columns=['content'])\n",
    "sentences_df.head()"
   ]
  },
  {
   "cell_type": "code",
   "execution_count": 6,
   "metadata": {},
   "outputs": [
    {
     "name": "stderr",
     "output_type": "stream",
     "text": [
      "Some weights of the model checkpoint at distilbert-base-uncased were not used when initializing DistilBertModel: ['vocab_layer_norm.weight', 'vocab_transform.weight', 'vocab_projector.weight', 'vocab_projector.bias', 'vocab_transform.bias', 'vocab_layer_norm.bias']\n",
      "- This IS expected if you are initializing DistilBertModel from the checkpoint of a model trained on another task or with another architecture (e.g. initializing a BertForSequenceClassification model from a BertForPreTraining model).\n",
      "- This IS NOT expected if you are initializing DistilBertModel from the checkpoint of a model that you expect to be exactly identical (initializing a BertForSequenceClassification model from a BertForSequenceClassification model).\n"
     ]
    }
   ],
   "source": [
    "# load model\n",
    "model = DistilBertModel.from_pretrained(\"distilbert-base-uncased\")\n",
    "tokenizer = DistilBertTokenizerFast.from_pretrained(\"distilbert-base-uncased\")"
   ]
  },
  {
   "cell_type": "code",
   "execution_count": null,
   "metadata": {},
   "outputs": [],
   "source": [
    "\"\"\"# batch size test - don't think necessary here\n",
    "for batch_size in [1, 8, 64, 256]:\n",
    "    print(\"-\" * 30)\n",
    "    print(f\"Streaming batch_size={batch_size}\")\n",
    "    for out in tqdm(pipe(list_of_str, batch_size=batch_size), total=len(list_of_str)):\n",
    "        pass\"\"\""
   ]
  },
  {
   "cell_type": "code",
   "execution_count": 8,
   "metadata": {},
   "outputs": [],
   "source": [
    "# model implementation with pipeline batching\n",
    "batch_size = 1 \n",
    "pipe = pipeline('feature-extraction', model=model, tokenizer=tokenizer, return_tensors='pt', padding=True, truncation=True, batch_size=batch_size)\n",
    "test = pipe(list_of_str)"
   ]
  },
  {
   "cell_type": "code",
   "execution_count": 9,
   "metadata": {},
   "outputs": [],
   "source": [
    "# embeddings\n",
    "empty = []\n",
    "for i in range(len(test)):\n",
    "    empty.append(test[i][0][-1]) # last hidden layer\n",
    "document_embeddings = np.array(empty) # encoded vectors"
   ]
  },
  {
   "cell_type": "code",
   "execution_count": 10,
   "metadata": {},
   "outputs": [
    {
     "name": "stdout",
     "output_type": "stream",
     "text": [
      "\u001b[44mHello World!\u001b[m\n"
     ]
    }
   ],
   "source": [
    "# define highlighter\n",
    "def highlight(text):\n",
    "    hl = \"\\033[44m\" + str(text) + \"\\033[m\"\n",
    "    return hl\n",
    "\n",
    "print(highlight('Hello World!'))"
   ]
  },
  {
   "cell_type": "code",
   "execution_count": null,
   "metadata": {},
   "outputs": [],
   "source": [
    "# sample text: first 5 sentences of article 1\n",
    "first5 = 'WASHINGTON  —   Congressional Republicans have a new fear when it comes to their    health care lawsuit against the Obama administration: They might win. The incoming Trump administration could choose to no longer defend the executive branch against the suit, which challenges the administration’s authority to spend billions of dollars on health insurance subsidies for   and   Americans, handing House Republicans a big victory on    issues. But a sudden loss of the disputed subsidies could conceivably cause the health care program to implode, leaving millions of people without access to health insurance before Republicans have prepared a replacement. That could lead to chaos in the insurance market and spur a political backlash just as Republicans gain full control of the government. To stave off that outcome, Republicans could find themselves in the awkward position of appropriating huge sums to temporarily prop up the Obama health care law, angering conservative voters who have been demanding an end to the law for years.'"
   ]
  },
  {
   "cell_type": "code",
   "execution_count": 24,
   "metadata": {},
   "outputs": [
    {
     "data": {
      "text/plain": [
       "array([1.        , 0.40768299, 0.40755288, 0.67590143, 0.4246948 ,\n",
       "       0.40793986, 0.40041024, 0.33731479, 0.39235208, 0.40756263,\n",
       "       0.38408862, 0.29963826, 0.37592479, 0.33262396, 0.40496517,\n",
       "       0.87660168, 0.30394477, 0.82082471, 0.33819567, 0.41830157,\n",
       "       0.39739546, 0.34681845, 0.38619247, 0.55832353, 0.42772886,\n",
       "       0.97172558, 1.        ])"
      ]
     },
     "execution_count": 24,
     "metadata": {},
     "output_type": "execute_result"
    }
   ],
   "source": [
    "def similarity_by_sentence(\n",
    "                        user_input: str, \n",
    "                        df: pd.DataFrame = sentences_df, \n",
    "                        orig_doc: np.array = document_embeddings, \n",
    "                        sim: object = cosine_similarity\n",
    "                        ) -> list:\n",
    "    \"\"\"\n",
    "    Returns similarity vectors for each sentence in input.\n",
    "\n",
    "    Args:\n",
    "        1. user_input\n",
    "            - input string to test for plagiarism\n",
    "        2. df \n",
    "            - dataframe of article split into sentences\n",
    "        3. orig_doc \n",
    "            - vectorized string data\n",
    "        4. sim (function)\n",
    "            - cosine similarity - compares similarity of vectors\n",
    "    Returns:\n",
    "        1. scores\n",
    "            - list of similarity vectors for each sentence\n",
    "    \n",
    "    \"\"\"\n",
    "    scores = []\n",
    "    # iterate over each sentence\n",
    "    for sentence in sentence_split(user_input):\n",
    "        \n",
    "        # add string to df\n",
    "        sentences_df_plus_input = df.copy()\n",
    "        sentences_df_plus_input.loc[len(df.index)] = sentence \n",
    "        \n",
    "        # encode\n",
    "        input_embedding = pipe(sentence)[0][-1]\n",
    "        \n",
    "        # compute cosine similarities\n",
    "        new_embedding = np.vstack([orig_doc, input_embedding]) # append encoded vector\n",
    "        adj_pairwise_similarities = abs(sim(new_embedding))\n",
    "\n",
    "        scores.append(adj_pairwise_similarities[-1])\n",
    "    return scores\n",
    "\n",
    "# test\n",
    "similarity_by_sentence(first5)[0] # list of 5 vectors"
   ]
  },
  {
   "cell_type": "code",
   "execution_count": 18,
   "metadata": {},
   "outputs": [
    {
     "data": {
      "text/plain": [
       "['WASHINGTON  —   Congressional Republicans have a new fear when it comes to their    health care lawsuit against the Obama administration: They might win.',\n",
       " 'The incoming Trump administration could choose to no longer defend the executive branch against the suit, which challenges the administration’s authority to spend billions of dollars on health insurance subsidies for   and   Americans, handing House Republicans a big victory on    issues.',\n",
       " 'But a sudden loss of the disputed subsidies could conceivably cause the health care program to implode, leaving millions of people without access to health insurance before Republicans have prepared a replacement.',\n",
       " 'That could lead to chaos in the insurance market and spur a political backlash just as Republicans gain full control of the government.',\n",
       " 'To stave off that outcome, Republicans could find themselves in the awkward position of appropriating huge sums to temporarily prop up the Obama health care law, angering conservative voters who have been demanding an end to the law for years.']"
      ]
     },
     "execution_count": 18,
     "metadata": {},
     "output_type": "execute_result"
    }
   ],
   "source": [
    "def top_sentences(\n",
    "                user_input: str, \n",
    "                df: pd.DataFrame = sentences_df, \n",
    "                similarity_by_sentence: object = similarity_by_sentence, \n",
    "                ) -> list:\n",
    "    \"\"\"\n",
    "    Returns closest match for each sentence.\n",
    "\n",
    "    Args:\n",
    "        1. user_input\n",
    "            - input string to test for plagiarism\n",
    "        2. df \n",
    "            - dataframe of article split into sentences\n",
    "        3. similarity_by_sentence (function)\n",
    "            - returns list of similarity vectors for each sentence in input\n",
    "    Returns:\n",
    "        1. top\n",
    "            - list of sentences most similar to each sentence -> (so same length as input)\n",
    "    \"\"\"\n",
    "    # return most similar sentence for each input sentence\n",
    "    doc_id = df.shape[0]\n",
    "    scores = similarity_by_sentence(user_input)\n",
    "    similar_str = []\n",
    "    top = []\n",
    "\n",
    "    for vec in scores:\n",
    "        similar_indices = np.argsort(vec)[::-1]\n",
    "        for index in similar_indices:\n",
    "            if index == doc_id: \n",
    "                continue\n",
    "            similar_str.append((df.iloc[index][\"content\"])) #, vec[index]))\n",
    "        top.append(similar_str[::len(similar_indices)-1]) # most similar sentence \n",
    "    top = top[-1]\n",
    "\n",
    "    return top\n",
    "\n",
    "top_sentences(first5)"
   ]
  },
  {
   "cell_type": "code",
   "execution_count": 20,
   "metadata": {},
   "outputs": [],
   "source": [
    "def output(\n",
    "        user_input, \n",
    "        sim_threshold = 0.95,\n",
    "        similarity_by_sentence: object = similarity_by_sentence,\n",
    "        df: pd.DataFrame = sentences_df,\n",
    "        top_sentences: object = top_sentences,\n",
    "        list_of_str: list = list_of_str,\n",
    "        highlight: object = highlight,\n",
    "        ) -> str:\n",
    "    \"\"\"\n",
    "    Returns whole article with sentences similar to user_input highlighted.\n",
    "\n",
    "    Args:\n",
    "        1. user_input\n",
    "            - input string to test for plagiarism\n",
    "        2. sim_threshold\n",
    "            - cosine similarity threshold\n",
    "        3. similarity_by_sentence (function)\n",
    "            - returns list of similarity vectors for each sentence in input\n",
    "        4. df\n",
    "            - dataframe of article split into sentences\n",
    "        5. top_sentences (function)\n",
    "            - returns list of most similar sentences to user_input\n",
    "        6. list_of_str\n",
    "            - list of article split into sentences\n",
    "        7. highlight (function)\n",
    "            - highlights text\n",
    "    Returns:\n",
    "        1. result\n",
    "            - whole article/doc with highlighted sentences where plagiarism is detected\n",
    "    \"\"\"\n",
    "    display = []\n",
    "    scores = similarity_by_sentence(user_input) # similarity vectors\n",
    "    top = top_sentences(user_input) # most similar sentences\n",
    "    doc_id = df.shape[0]\n",
    "\n",
    "    # display whole doc with highlighted text\n",
    "    for vec in scores:\n",
    "        similar_indices = np.argsort(vec)[::-1]\n",
    "        for index in similar_indices:\n",
    "            if index == doc_id: \n",
    "                continue\n",
    "\n",
    "            # highlight sentences above threshold\n",
    "            for sentence in list_of_str:\n",
    "                if sentence in top:\n",
    "                    if vec[index] > sim_threshold: # apply similarity threshold\n",
    "                        display.append(str(highlight(sentence))) \n",
    "                    else:\n",
    "                        display.append(sentence)\n",
    "                else:\n",
    "                    display.append(sentence) \n",
    "\n",
    "    result = display[0:len(list_of_str)] # output as list\n",
    "    return ' '.join(result) # output as string"
   ]
  },
  {
   "cell_type": "code",
   "execution_count": 21,
   "metadata": {},
   "outputs": [
    {
     "data": {
      "text/plain": [
       "'\\x1b[44mWASHINGTON  —   Congressional Republicans have a new fear when it comes to their    health care lawsuit against the Obama administration: They might win.\\x1b[m \\x1b[44mThe incoming Trump administration could choose to no longer defend the executive branch against the suit, which challenges the administration’s authority to spend billions of dollars on health insurance subsidies for   and   Americans, handing House Republicans a big victory on    issues.\\x1b[m \\x1b[44mBut a sudden loss of the disputed subsidies could conceivably cause the health care program to implode, leaving millions of people without access to health insurance before Republicans have prepared a replacement.\\x1b[m \\x1b[44mThat could lead to chaos in the insurance market and spur a political backlash just as Republicans gain full control of the government.\\x1b[m \\x1b[44mTo stave off that outcome, Republicans could find themselves in the awkward position of appropriating huge sums to temporarily prop up the Obama health care law, angering conservative voters who have been demanding an end to the law for years.\\x1b[m In another twist, Donald J. Trump’s administration, worried about preserving executive branch prerogatives, could choose to fight its Republican allies in the House on some central questions in the dispute. Eager to avoid an ugly political pileup, Republicans on Capitol Hill and the Trump transition team are gaming out how to handle the lawsuit, which, after the election, has been put in limbo until at least late February by the United States Court of Appeals for the District of Columbia Circuit. They are not yet ready to divulge their strategy. “ Given that this pending litigation involves the Obama administration and Congress, it would be inappropriate to comment,” said Phillip J. Blando, a spokesman for the Trump transition effort. “ Upon taking office, the Trump administration will evaluate this case and all related aspects of the Affordable Care Act. ” In a potentially   decision in 2015, Judge Rosemary M. Collyer ruled that House Republicans had the standing to sue the executive branch over a spending dispute and that the Obama administration had been distributing the health insurance subsidies, in violation of the Constitution, without approval from Congress. The Justice Department, confident that Judge Collyer’s decision would be reversed, quickly appealed, and the subsidies have remained in place during the appeal. In successfully seeking a temporary halt in the proceedings after Mr. Trump won, House Republicans last month told the court that they “and the  ’s transition team currently are discussing potential options for resolution of this matter, to take effect after the  ’s inauguration on Jan. 20, 2017. ” The suspension of the case, House lawyers said, will “provide the   and his future administration time to consider whether to continue prosecuting or to otherwise resolve this appeal. ” Republican leadership officials in the House acknowledge the possibility of “cascading effects” if the   payments, which have totaled an estimated $13 billion, are suddenly stopped. Insurers that receive the subsidies in exchange for paying    costs such as deductibles and   for eligible consumers could race to drop coverage since they would be losing money. Over all, the loss of the subsidies could destabilize the entire program and cause a lack of confidence that leads other insurers to seek a quick exit as well. Anticipating that the Trump administration might not be inclined to mount a vigorous fight against the House Republicans given the  ’s dim view of the health care law, a team of lawyers this month sought to intervene in the case on behalf of two participants in the health care program. In their request, the lawyers predicted that a deal between House Republicans and the new administration to dismiss or settle the case “will produce devastating consequences for the individuals who receive these reductions, as well as for the nation’s health insurance and health care systems generally. ” No matter what happens, House Republicans say, they want to prevail on two overarching concepts: the congressional power of the purse, and the right of Congress to sue the executive branch if it violates the Constitution regarding that spending power. House Republicans contend that Congress never appropriated the money for the subsidies, as required by the Constitution. In the suit, which was initially championed by John A. Boehner, the House speaker at the time, and later in House committee reports, Republicans asserted that the administration, desperate for the funding, had required the Treasury Department to provide it despite widespread internal skepticism that the spending was proper. The White House said that the spending was a permanent part of the law passed in 2010, and that no annual appropriation was required  —   even though the administration initially sought one. Just as important to House Republicans, Judge Collyer found that Congress had the standing to sue the White House on this issue  —   a ruling that many legal experts said was flawed  —   and they want that precedent to be set to restore congressional leverage over the executive branch. But on spending power and standing, the Trump administration may come under pressure from advocates of presidential authority to fight the House no matter their shared views on health care, since those precedents could have broad repercussions. It is a complicated set of dynamics illustrating how a quick legal victory for the House in the Trump era might come with costs that Republicans never anticipated when they took on the Obama White House.'"
      ]
     },
     "execution_count": 21,
     "metadata": {},
     "output_type": "execute_result"
    }
   ],
   "source": [
    "\"\"\"Sample text for testing\"\"\"\n",
    "# first 5 sentences from article 1\n",
    "out = output(first5) # sentence 1 from article 1\n",
    "#out = str_input('WASHINGTON  —   Congressional Republicans have a new fear when it comes to their health care lawsuit against the Obama administration: They might win.')\n",
    "# mix from same article\n",
    "#out = str_input('Eager to avoid an ugly political pileup, Republicans on Capitol Hill and the Trump transition team are gaming out how to handle the lawsuit, which, after the election, has been put in limbo until at least late February by the United States Court of Appeals for the District of Columbia Circuit. But on spending power and standing, the Trump administration may come under pressure from advocates of presidential authority to fight the House no matter their shared views on health care, since those precedents could have broad repercussions.')\n",
    "# random\n",
    "#out = str_input('somewhere over the rainbow')\n",
    "\n",
    "out "
   ]
  },
  {
   "cell_type": "code",
   "execution_count": null,
   "metadata": {},
   "outputs": [],
   "source": []
  }
 ],
 "metadata": {
  "interpreter": {
   "hash": "5e48e97ce0596f00b4d0367556db4125e1131c21813247f999667c02468f98d0"
  },
  "kernelspec": {
   "display_name": "Python 3.10.2 64-bit",
   "language": "python",
   "name": "python3"
  },
  "language_info": {
   "codemirror_mode": {
    "name": "ipython",
    "version": 3
   },
   "file_extension": ".py",
   "mimetype": "text/x-python",
   "name": "python",
   "nbconvert_exporter": "python",
   "pygments_lexer": "ipython3",
   "version": "3.10.2"
  },
  "orig_nbformat": 4
 },
 "nbformat": 4,
 "nbformat_minor": 2
}
