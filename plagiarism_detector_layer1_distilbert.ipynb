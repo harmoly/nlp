{
 "cells": [
  {
   "cell_type": "code",
   "execution_count": 3,
   "id": "73fbead6",
   "metadata": {},
   "outputs": [],
   "source": [
    "import pandas as pd\n",
    "import numpy as np\n",
    "import spacy\n",
    "from sklearn.metrics.pairwise import cosine_similarity\n",
    "import re\n",
    "from transformers import DistilBertTokenizerFast, DistilBertModel, pipeline\n",
    "from tqdm.auto import tqdm\n",
    "\n",
    "a1 = pd.read_csv('s3://gitlab-sagemaker-init/Data/Raw/plagiarism_detection/archive (1)/articles1.csv', sep=',')\n",
    "a2 = pd.read_csv('s3://gitlab-sagemaker-init/Data/Raw/plagiarism_detection/archive (1)/articles2.csv', sep=',')\n",
    "a3 = pd.read_csv('s3://gitlab-sagemaker-init/Data/Raw/plagiarism_detection/archive (1)/articles3.csv', sep=',')\n",
    "\n",
    "# dataframe\n",
    "articles = pd.concat([a1,a2,a3])\n",
    "articles = articles[['content']]\n",
    "\n",
    "# subset for demo\n",
    "articles = articles.iloc[0:100,:]"
   ]
  },
  {
   "cell_type": "code",
   "execution_count": 4,
   "id": "cbeda93a",
   "metadata": {},
   "outputs": [
    {
     "name": "stderr",
     "output_type": "stream",
     "text": [
      "Some weights of the model checkpoint at distilbert-base-uncased were not used when initializing DistilBertModel: ['vocab_layer_norm.bias', 'vocab_transform.weight', 'vocab_transform.bias', 'vocab_projector.weight', 'vocab_projector.bias', 'vocab_layer_norm.weight']\n",
      "- This IS expected if you are initializing DistilBertModel from the checkpoint of a model trained on another task or with another architecture (e.g. initializing a BertForSequenceClassification model from a BertForPreTraining model).\n",
      "- This IS NOT expected if you are initializing DistilBertModel from the checkpoint of a model that you expect to be exactly identical (initializing a BertForSequenceClassification model from a BertForSequenceClassification model).\n"
     ]
    }
   ],
   "source": [
    "# load model\n",
    "model = DistilBertModel.from_pretrained(\"distilbert-base-uncased\")\n",
    "tokenizer = DistilBertTokenizerFast.from_pretrained(\"distilbert-base-uncased\")"
   ]
  },
  {
   "cell_type": "code",
   "execution_count": 41,
   "id": "13452490",
   "metadata": {},
   "outputs": [],
   "source": [
    "list_of_str = list(articles['content'])"
   ]
  },
  {
   "cell_type": "code",
   "execution_count": 139,
   "id": "97764755",
   "metadata": {},
   "outputs": [
    {
     "name": "stdout",
     "output_type": "stream",
     "text": [
      "------------------------------\n",
      "Streaming batch_size=1\n"
     ]
    },
    {
     "data": {
      "application/vnd.jupyter.widget-view+json": {
       "model_id": "826a2f5f545b4e799aa3793ddb385269",
       "version_major": 2,
       "version_minor": 0
      },
      "text/plain": [
       "  0%|          | 0/100 [00:00<?, ?it/s]"
      ]
     },
     "metadata": {},
     "output_type": "display_data"
    },
    {
     "name": "stdout",
     "output_type": "stream",
     "text": [
      "------------------------------\n",
      "Streaming batch_size=8\n"
     ]
    },
    {
     "data": {
      "application/vnd.jupyter.widget-view+json": {
       "model_id": "72c019736eca49bbb8c8adc5476a07ee",
       "version_major": 2,
       "version_minor": 0
      },
      "text/plain": [
       "  0%|          | 0/100 [00:00<?, ?it/s]"
      ]
     },
     "metadata": {},
     "output_type": "display_data"
    },
    {
     "name": "stdout",
     "output_type": "stream",
     "text": [
      "------------------------------\n",
      "Streaming batch_size=64\n"
     ]
    },
    {
     "data": {
      "application/vnd.jupyter.widget-view+json": {
       "model_id": "18de825fb11f46deab5a4259b8ea6c8e",
       "version_major": 2,
       "version_minor": 0
      },
      "text/plain": [
       "  0%|          | 0/100 [00:00<?, ?it/s]"
      ]
     },
     "metadata": {},
     "output_type": "display_data"
    },
    {
     "name": "stdout",
     "output_type": "stream",
     "text": [
      "------------------------------\n",
      "Streaming batch_size=256\n"
     ]
    },
    {
     "data": {
      "application/vnd.jupyter.widget-view+json": {
       "model_id": "0fa351a4838942b0bdd4a7a27cbc2c6c",
       "version_major": 2,
       "version_minor": 0
      },
      "text/plain": [
       "  0%|          | 0/100 [00:00<?, ?it/s]"
      ]
     },
     "metadata": {},
     "output_type": "display_data"
    }
   ],
   "source": [
    "# batch size test\n",
    "# for example, sample of 100 yields fastest iteration with no batching\n",
    "for batch_size in [1, 8, 64, 256]:\n",
    "    print(\"-\" * 30)\n",
    "    print(f\"Streaming batch_size={batch_size}\")\n",
    "    for out in tqdm(pipe(list_of_str, batch_size=batch_size), total=len(list_of_str)):\n",
    "        pass"
   ]
  },
  {
   "cell_type": "code",
   "execution_count": 140,
   "id": "eec90651",
   "metadata": {},
   "outputs": [],
   "source": [
    "# model implementation with pipeline batching\n",
    "batch_size = 1 \n",
    "pipe = pipeline('feature-extraction', model=model, tokenizer=tokenizer, return_tensors='pt', padding=True, truncation=True, batch_size=batch_size)\n",
    "test = pipe(list_of_str)\n",
    "\n",
    "empty = []\n",
    "for i in range(len(test)):\n",
    "    empty.append(test[i][0][-1]) # last hidden layer\n",
    "document_embeddings = np.array(empty) # encoded vectors"
   ]
  },
  {
   "cell_type": "code",
   "execution_count": 44,
   "id": "87f30cf6",
   "metadata": {},
   "outputs": [],
   "source": [
    "def most_similar(doc_id, similarity_matrix, df):\n",
    "    \"\"\"\n",
    "    This function returns a list of the top 5 strings/documents \n",
    "    (from our database) most similar to our input.\n",
    "    \n",
    "    Args:\n",
    "        1. doc_id (obj: int)\n",
    "            - user input string to test for plagiarism\n",
    "        2. similarity_matrix (obj: NumPy array)\n",
    "            - n-dimensional array of cosine similarity scores\n",
    "        3. df (obj: Pandas dataframe)\n",
    "            - dataframe of input strings\n",
    "    Returns:\n",
    "        1. top5 (obj: list)\n",
    "            - list of top 5 documents most similar to input string, along with similarity scores\n",
    "    \"\"\"\n",
    "    similar_str = []\n",
    "    top5=[]\n",
    "    similar_ix = np.argsort(similarity_matrix[doc_id])[::-1]\n",
    "    for ix in similar_ix:\n",
    "        if ix == doc_id:\n",
    "            continue\n",
    "        similar_str.append((f'Excerpt: {df.iloc[ix][\"content\"][0:100]}...', f'Cosine Similarity : {similarity_matrix[doc_id][ix]}'))\n",
    "    for i in range(5):\n",
    "        top5.append(similar_str[i])\n",
    "    return top5"
   ]
  },
  {
   "cell_type": "code",
   "execution_count": 134,
   "id": "0719e1bc",
   "metadata": {},
   "outputs": [],
   "source": [
    "def str_input(sentence: str, df: pd.DataFrame = articles, orig_doc: pd.array = document_embeddings, sim = cosine_similarity, func = most_similar): \n",
    "    \"\"\" \n",
    "    This function takes input string to test for similarity to other strings/documents \n",
    "    in our database.\n",
    "    \n",
    "    Args:\n",
    "        1. sentence (obj: string)\n",
    "            - user input string to test for plagiarism\n",
    "        2. df (obj: Pandas dataframe)\n",
    "            - contains articles to compare\n",
    "        3. orig_doc (obj: NumPy array)\n",
    "            - vectorized string data\n",
    "        4. sim (obj: function)\n",
    "            - cosine similarity - compares similarity of vectors\n",
    "        5. func (obj: function)\n",
    "            - returns display of similar strings/documents\n",
    "        6. model (obj: model)\n",
    "            - implement BERT model\n",
    "    Returns:\n",
    "        1. top5 (obj: list)\n",
    "            - list of top 5 documents most similar to input string, along with similarity scores\n",
    "    \"\"\"\n",
    "    # remove punctuation\n",
    "    #cleaned_sentence = re.sub(r'[^\\w\\s]', '', str(sentence))\n",
    "    \n",
    "    # add string to df\n",
    "    articles_plus_input = df.copy()\n",
    "    articles_plus_input.loc[len(df.index)] = sentence \n",
    "    \n",
    "    # encode\n",
    "    #encoded = tokenizer(sentence, return_tensors='pt', padding=True, truncation=True)\n",
    "    #input_embedding = model(**encoded)['last_hidden_state'].detach().numpy()[0][-1]\n",
    "    input_embedding = pipe(sentence)[0][-1]\n",
    "    \n",
    "    # compute cosine similarities\n",
    "    new_embedding = np.vstack([orig_doc, input_embedding]) # append encoded vector\n",
    "    adj_pairwise_similarities = abs(sim(new_embedding))\n",
    "    \n",
    "    return func(articles_plus_input.shape[0]-1, adj_pairwise_similarities, articles_plus_input)"
   ]
  },
  {
   "cell_type": "code",
   "execution_count": 141,
   "id": "3ef6c4dd",
   "metadata": {},
   "outputs": [
    {
     "data": {
      "text/plain": [
       "[('Excerpt: This article is part of a series aimed at helping you navigate life’s opportunities and challenges. ...',\n",
       "  'Cosine Similarity : 0.23963339064016137'),\n",
       " ('Excerpt: When the Green Bay Packers lost to the Washington Redskins in Week 11, dropping to   Aaron Rodgers v...',\n",
       "  'Cosine Similarity : 0.23776744939233005'),\n",
       " ('Excerpt: For the 12th straight year, the Travel section presents its annual Places to Go issue. You will like...',\n",
       "  'Cosine Similarity : 0.23546178172064744'),\n",
       " ('Excerpt:  (Want to get this briefing by email? Here’s the  .) Good morning. Here’s what you need to know: • C...',\n",
       "  'Cosine Similarity : 0.23312710792647662'),\n",
       " ('Excerpt: After the bullet shells get counted, the blood dries and the votive candles burn out, people peer do...',\n",
       "  'Cosine Similarity : 0.2321069741634577')]"
      ]
     },
     "execution_count": 141,
     "metadata": {},
     "output_type": "execute_result"
    }
   ],
   "source": [
    "str_input('here is a test sentence')"
   ]
  },
  {
   "cell_type": "code",
   "execution_count": 142,
   "id": "7c99f94e",
   "metadata": {},
   "outputs": [
    {
     "data": {
      "text/plain": [
       "[('Excerpt: WASHINGTON  —   Congressional Republicans have a new fear when it comes to their    health care laws...',\n",
       "  'Cosine Similarity : 1.0000000000000004'),\n",
       " ('Excerpt: WASHINGTON  —   Congress opened for battle over the Affordable Care Act on Wednesday as Republicans ...',\n",
       "  'Cosine Similarity : 0.9708710681910544'),\n",
       " ('Excerpt: WASHINGTON  —   Vice   Mike Pence and the top Republicans in Congress made clear on Wednesday, more ...',\n",
       "  'Cosine Similarity : 0.9639289438086232'),\n",
       " ('Excerpt: WASHINGTON  —   It was supposed to be a triumphant morning for Republicans on Capitol Hill  —   a mo...',\n",
       "  'Cosine Similarity : 0.9608567073816159'),\n",
       " ('Excerpt: WASHINGTON  —   Majorities in Congress often overreach, but usually not on the very first day. House...',\n",
       "  'Cosine Similarity : 0.9604713496482427')]"
      ]
     },
     "execution_count": 142,
     "metadata": {},
     "output_type": "execute_result"
    }
   ],
   "source": [
    "str_input(long_text) # full excerpt"
   ]
  },
  {
   "cell_type": "code",
   "execution_count": 137,
   "id": "7df28e34",
   "metadata": {},
   "outputs": [
    {
     "data": {
      "text/plain": [
       "[('Excerpt: WASHINGTON  —   Congressional Republicans have a new fear when it comes to their    health care laws...',\n",
       "  'Cosine Similarity : 0.9558768026297194'),\n",
       " ('Excerpt: WASHINGTON  —   Congress opened for battle over the Affordable Care Act on Wednesday as Republicans ...',\n",
       "  'Cosine Similarity : 0.935531523691726'),\n",
       " ('Excerpt: WASHINGTON  —   It was supposed to be a triumphant morning for Republicans on Capitol Hill  —   a mo...',\n",
       "  'Cosine Similarity : 0.9220396312133845'),\n",
       " ('Excerpt: WASHINGTON  —   Vice   Mike Pence and the top Republicans in Congress made clear on Wednesday, more ...',\n",
       "  'Cosine Similarity : 0.9183812507816784'),\n",
       " ('Excerpt: WASHINGTON  —     Donald J. Trump lashed out at Democrats on Thursday over their efforts to preserve...',\n",
       "  'Cosine Similarity : 0.9137772488365332')]"
      ]
     },
     "execution_count": 137,
     "metadata": {},
     "output_type": "execute_result"
    }
   ],
   "source": [
    "# mid-size excerpt\n",
    "str_input('Obama administration had been distributing the health insurance subsidies, in violation of the Constitution, without approval from Congress. The Justice Department, confident that Judge Collyer’s decision would be reversed, quickly appealed, and the subsidies have remained in place during the appeal. In successfully seeking a temporary halt in the proceedings after Mr. Trump won, House Republicans last month told the court that they “and the  ’s transition team currently are discussing potential options for resolution of this matter, to take effect after the  ’s inauguration on Jan. 20, 2017. ” The suspension of the case, House lawyers said, will “provide the')"
   ]
  },
  {
   "cell_type": "code",
   "execution_count": null,
   "id": "052fe27d",
   "metadata": {},
   "outputs": [],
   "source": []
  },
  {
   "cell_type": "code",
   "execution_count": 50,
   "id": "83325414",
   "metadata": {},
   "outputs": [],
   "source": [
    "# strings for testing\n",
    "short_text = \"hello\"\n",
    "long_text = 'WASHINGTON  —   Congressional Republicans have a new fear when it comes to their    health care lawsuit against the Obama administration: They might win. The incoming Trump administration could choose to no longer defend the executive branch against the suit, which challenges the administration’s authority to spend billions of dollars on health insurance subsidies for   and   Americans, handing House Republicans a big victory on    issues. But a sudden loss of the disputed subsidies could conceivably cause the health care program to implode, leaving millions of people without access to health insurance before Republicans have prepared a replacement. That could lead to chaos in the insurance market and spur a political backlash just as Republicans gain full control of the government. To stave off that outcome, Republicans could find themselves in the awkward position of appropriating huge sums to temporarily prop up the Obama health care law, angering conservative voters who have been demanding an end to the law for years. In another twist, Donald J. Trump’s administration, worried about preserving executive branch prerogatives, could choose to fight its Republican allies in the House on some central questions in the dispute. Eager to avoid an ugly political pileup, Republicans on Capitol Hill and the Trump transition team are gaming out how to handle the lawsuit, which, after the election, has been put in limbo until at least late February by the United States Court of Appeals for the District of Columbia Circuit. They are not yet ready to divulge their strategy. “Given that this pending litigation involves the Obama administration and Congress, it would be inappropriate to comment,” said Phillip J. Blando, a spokesman for the Trump transition effort. “Upon taking office, the Trump administration will evaluate this case and all related aspects of the Affordable Care Act. ” In a potentially   decision in 2015, Judge Rosemary M. Collyer ruled that House Republicans had the standing to sue the executive branch over a spending dispute and that the Obama administration had been distributing the health insurance subsidies, in violation of the Constitution, without approval from Congress. The Justice Department, confident that Judge Collyer’s decision would be reversed, quickly appealed, and the subsidies have remained in place during the appeal. In successfully seeking a temporary halt in the proceedings after Mr. Trump won, House Republicans last month told the court that they “and the  ’s transition team currently are discussing potential options for resolution of this matter, to take effect after the  ’s inauguration on Jan. 20, 2017. ” The suspension of the case, House lawyers said, will “provide the   and his future administration time to consider whether to continue prosecuting or to otherwise resolve this appeal. ” Republican leadership officials in the House acknowledge the possibility of “cascading effects” if the   payments, which have totaled an estimated $13 billion, are suddenly stopped. Insurers that receive the subsidies in exchange for paying    costs such as deductibles and   for eligible consumers could race to drop coverage since they would be losing money. Over all, the loss of the subsidies could destabilize the entire program and cause a lack of confidence that leads other insurers to seek a quick exit as well. Anticipating that the Trump administration might not be inclined to mount a vigorous fight against the House Republicans given the  ’s dim view of the health care law, a team of lawyers this month sought to intervene in the case on behalf of two participants in the health care program. In their request, the lawyers predicted that a deal between House Republicans and the new administration to dismiss or settle the case “will produce devastating consequences for the individuals who receive these reductions, as well as for the nation’s health insurance and health care systems generally. ” No matter what happens, House Republicans say, they want to prevail on two overarching concepts: the congressional power of the purse, and the right of Congress to sue the executive branch if it violates the Constitution regarding that spending power. House Republicans contend that Congress never appropriated the money for the subsidies, as required by the Constitution. In the suit, which was initially championed by John A. Boehner, the House speaker at the time, and later in House committee reports, Republicans asserted that the administration, desperate for the funding, had required the Treasury Department to provide it despite widespread internal skepticism that the spending was proper. The White House said that the spending was a permanent part of the law passed in 2010, and that no annual appropriation was required  —   even though the administration initially sought one. Just as important to House Republicans, Judge Collyer found that Congress had the standing to sue the White House on this issue  —   a ruling that many legal experts said was flawed  —   and they want that precedent to be set to restore congressional leverage over the executive branch. But on spending power and standing, the Trump administration may come under pressure from advocates of presidential authority to fight the House no matter their shared views on health care, since those precedents could have broad repercussions. It is a complicated set of dynamics illustrating how a quick legal victory for the House in the Trump era might come with costs that Republicans never anticipated when they took on the Obama White House.'\n",
    "short_list_of_str = ['first! str%ing', 'sec-ond', 'and the ?third']"
   ]
  },
  {
   "cell_type": "code",
   "execution_count": 42,
   "id": "9bf64917",
   "metadata": {
    "scrolled": true
   },
   "outputs": [
    {
     "name": "stdout",
     "output_type": "stream",
     "text": [
      "encoded input: \n",
      " [[  101  2899  1517 ...  1998  2010   102]\n",
      " [  101  2044  1996 ...  6439  1010   102]\n",
      " [  101  2043 10598 ...  8571  1010   102]\n",
      " ...\n",
      " [  101  1037  2146 ...  3345  1012   102]\n",
      " [  101  5626  1517 ...  2015  2000   102]\n",
      " [  101  8084  2007 ...  3811 11126   102]]\n"
     ]
    }
   ],
   "source": [
    "\"\"\"# non-pipeline model implementation\n",
    "encoded_input = tokenizer(list_of_str, return_tensors='pt', padding=True, truncation=True)\n",
    "output = model(**encoded_input)\n",
    "\n",
    "input_array = encoded_input['input_ids'].numpy()\n",
    "output_array = output['last_hidden_state'].detach().numpy()\n",
    "\n",
    "enc_list = []\n",
    "for i in range(len(output_array)):\n",
    "     enc_list.append(output_array[i][-1])\n",
    "\n",
    "print('encoded input: \\n', input_array)\n",
    "#print('output: \\n', enc_list)\"\"\""
   ]
  }
 ],
 "metadata": {
  "kernelspec": {
   "display_name": "conda_python3",
   "language": "python",
   "name": "conda_python3"
  },
  "language_info": {
   "codemirror_mode": {
    "name": "ipython",
    "version": 3
   },
   "file_extension": ".py",
   "mimetype": "text/x-python",
   "name": "python",
   "nbconvert_exporter": "python",
   "pygments_lexer": "ipython3",
   "version": "3.6.13"
  }
 },
 "nbformat": 4,
 "nbformat_minor": 5
}
